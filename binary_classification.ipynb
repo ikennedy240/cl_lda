{
 "cells": [
  {
   "cell_type": "code",
   "execution_count": 1,
   "metadata": {},
   "outputs": [],
   "source": [
    "import matplotlib.pyplot as plt\n",
    "import numpy as np\n",
    "import pandas as pd\n",
    "import re\n",
    "\n",
    "from sklearn.feature_extraction.text import CountVectorizer\n",
    "from sklearn.linear_model import LogisticRegression, SGDClassifier\n",
    "from sklearn.metrics import accuracy_score, f1_score, roc_auc_score\n",
    "from sklearn.metrics import roc_curve, auc\n",
    "from sklearn.model_selection import KFold, train_test_split"
   ]
  },
  {
   "cell_type": "markdown",
   "metadata": {},
   "source": [
    "# Read in the CL data"
   ]
  },
  {
   "cell_type": "code",
   "execution_count": 5,
   "metadata": {},
   "outputs": [],
   "source": [
    "# df = pd.read_csv('data/no_dupes_lda_fit5_18.csv')\n",
    "# This has the latest preproc texts\n",
    "df = pd.read_csv('5_22_preproc.csv')"
   ]
  },
  {
   "cell_type": "markdown",
   "metadata": {},
   "source": [
    "# 0. Are titles alone predictive?"
   ]
  },
  {
   "cell_type": "code",
   "execution_count": null,
   "metadata": {},
   "outputs": [],
   "source": [
    "X_train, X_test, y_train, y_test = train_test_split(df['listingTitle'], df['high_white'], random_state=0)"
   ]
  },
  {
   "cell_type": "code",
   "execution_count": null,
   "metadata": {},
   "outputs": [],
   "source": [
    "word_vectorizer = CountVectorizer()\n",
    "word_vectorizer.fit(X_train)\n",
    "X_train_vectorized = word_vectorizer.transform(X_train)\n",
    "model = LogisticRegression(C=.1).fit(X_train_vectorized, y_train)\n",
    "predictions = model.predict_proba(word_vectorizer.transform(X_test))[:,1]\n",
    "binary_pred = [0 if value <= 0.5 else 1 for value in predictions]\n",
    "\n",
    "print('AUC: ', roc_auc_score(y_test, predictions))\n",
    "print('F1 score: ', f1_score(y_test, binary_pred))\n",
    "print('accuracy: ', accuracy_score(y_test, binary_pred))"
   ]
  },
  {
   "cell_type": "markdown",
   "metadata": {},
   "source": [
    "# Not really."
   ]
  },
  {
   "cell_type": "markdown",
   "metadata": {},
   "source": [
    "# Read in neighborhood names"
   ]
  },
  {
   "cell_type": "code",
   "execution_count": null,
   "metadata": {},
   "outputs": [],
   "source": [
    "with open('resources/hoods.txt', 'r') as inf:\n",
    "    hoodnames = inf.read().splitlines()\n",
    "    #hoodnames = inf.read()\n",
    "    #hoodnames = re.split(r',\\s*', hoodnames)"
   ]
  },
  {
   "cell_type": "markdown",
   "metadata": {},
   "source": [
    "# Curated list of Seattle-area neighborhoods -- some manually added in."
   ]
  },
  {
   "cell_type": "code",
   "execution_count": null,
   "metadata": {},
   "outputs": [],
   "source": [
    "neighbs = \"\"\"\"'Adams' 'Alki' 'Arbor Heights' 'Atlantic' 'Ballard' 'Belltown' 'Bellevue' Bitter Lake'\n",
    " 'Bothell' 'Bremerton' 'Briarcliff' 'Brighton' 'Broadview' 'Broadway' 'Bryant' 'Capitol Hill' 'Cedar Park'\n",
    " 'Central Business District' 'Columbia City' 'Crown Hill' 'Dunlap'\n",
    " 'East Queen Anne' 'Eastlake' 'Everett' 'Fairmount Park' 'Fauntleroy' 'Federal Way' 'First Hill'\n",
    " 'Fremont' 'Gatewood' 'Genesee' 'Georgetown' 'Green Lake' 'Greenlake' 'Greenwood'\n",
    " 'Haller Lake' 'Harrison/Denny-Blaine' 'High Point' 'Highland Park'\n",
    " 'Holly Park' 'Industrial District' 'Interbay' 'International District' 'Issaquah' 'Kirkland'\n",
    " 'Laurelhurst' 'Lawton Park' 'Leschi' 'Lower Queen Anne' 'Loyal Heights'\n",
    " 'Madison Park' 'Madrona' 'Mann' 'Maple Leaf' 'Matthews Beach'\n",
    " 'Meadowbrook' 'Mid-Beacon Hill' 'Mill Creek' Minor' 'Montlake' 'Mount Baker' 'Newcastle'\n",
    " 'North Admiral' 'North Beach/Blue Ridge' 'North Beacon Hill'\n",
    " 'North College Park' 'North Delridge' 'North Queen Anne' 'Olympic Hills'\n",
    " 'Phinney Ridge' 'Pike-Market' 'Pinehurst' 'Pioneer Square' 'Portage Bay'\n",
    " 'Rainier Beach' 'Ravenna' 'Redmond' 'Renton' 'Riverview' 'Roosevelt' 'Roxhill' 'Seaview'\n",
    " 'Seward Park' 'Shoreline' 'South Beacon Hill' 'South Delridge' 'South Lake Union'\n",
    " 'South Park' 'Southeast Magnolia' 'Stevens' 'Sunset Hill'\n",
    " 'University District' 'U District' 'UDistrict' 'Victory Heights' 'View Ridge' 'Wallingford'\n",
    " 'Wedgwood' 'West Seattle' 'West Queen Anne' 'West Woodland' 'Westlake'\n",
    " 'Whittier Heights' 'Windermere' 'Yesler Terrace'\"\"\".split(\"'\")"
   ]
  },
  {
   "cell_type": "code",
   "execution_count": null,
   "metadata": {},
   "outputs": [],
   "source": [
    "hoods = [name.lower() for name in neighbs if re.match(r'\\w+', name)]"
   ]
  },
  {
   "cell_type": "code",
   "execution_count": null,
   "metadata": {
    "scrolled": true
   },
   "outputs": [],
   "source": [
    "hoods"
   ]
  },
  {
   "cell_type": "markdown",
   "metadata": {},
   "source": [
    "# Preprocess the data:\n",
    "- Strip URLs (or.. should map them to '#url' ???)\n",
    "- Map neighborhood names to '#hood'\n",
    "- Tokenize words & punctuation\n",
    "\n",
    "\n",
    "- don't use 'clean_text' yet since it has some preproc errors"
   ]
  },
  {
   "cell_type": "code",
   "execution_count": null,
   "metadata": {},
   "outputs": [],
   "source": [
    "#url_pattern = r'(https?:\\/\\/)?(www)?.*[\\r\\n]*'\n",
    "\n",
    "\n",
    "url_pattern = r'(http)?(www)?\\S*(\\.com|\\.net|\\.gov|\\.be|\\.org)\\S*'"
   ]
  },
  {
   "cell_type": "code",
   "execution_count": null,
   "metadata": {},
   "outputs": [],
   "source": [
    "punctuation_pattern = r\"[#\\w'-]+|[.,!?;]+\""
   ]
  },
  {
   "cell_type": "code",
   "execution_count": null,
   "metadata": {},
   "outputs": [],
   "source": [
    "def preprocess(text):\n",
    "    text = text.lower()\n",
    "    no_urls = re.sub(url_pattern, '', text)\n",
    "    for hood in hoodnames:\n",
    "        # hood_pattern = r'\\s+{0}\\s+'.format(hood)\n",
    "        #hood_pattern = r' ?'+hood+' ?'\n",
    "        # Match neighborhood mentions surrounded by whitespace and replace with #hood\n",
    "        no_urls = re.sub(r'\\W+{0}\\W+'.format(hood), ' #hood ', no_urls)\n",
    "    no_digits = re.sub(r'\\d+', '', no_urls)\n",
    "    tokenized = re.findall(punctuation_pattern, no_digits)\n",
    "    return ' '.join([word.lower() for word in tokenized])"
   ]
  },
  {
   "cell_type": "code",
   "execution_count": null,
   "metadata": {},
   "outputs": [],
   "source": [
    "short_example = \"this queen anne apartment is really cool !!! 98105 https://blah.com\""
   ]
  },
  {
   "cell_type": "code",
   "execution_count": null,
   "metadata": {},
   "outputs": [],
   "source": [
    "long_example = df.loc[0]['body_text']"
   ]
  },
  {
   "cell_type": "code",
   "execution_count": null,
   "metadata": {
    "scrolled": true
   },
   "outputs": [],
   "source": [
    "preprocess(short_example)"
   ]
  },
  {
   "cell_type": "code",
   "execution_count": null,
   "metadata": {},
   "outputs": [],
   "source": [
    "preprocess(long_example)"
   ]
  },
  {
   "cell_type": "code",
   "execution_count": null,
   "metadata": {},
   "outputs": [],
   "source": [
    "texts = [[word for word in text.lower().split() if word not in hoodnames] for text in df.clean_text]"
   ]
  },
  {
   "cell_type": "code",
   "execution_count": null,
   "metadata": {},
   "outputs": [],
   "source": [
    "# Apply preproc to all texts\n",
    "df['preproc_text'] = df['body_text'].apply(preprocess)"
   ]
  },
  {
   "cell_type": "code",
   "execution_count": null,
   "metadata": {},
   "outputs": [],
   "source": [
    "# Save her for faster loading!\n",
    "df.to_csv('5_22_preproc.csv')"
   ]
  },
  {
   "cell_type": "markdown",
   "metadata": {},
   "source": [
    "# Train & test models.\n",
    "## Split the data into train & test sets\n",
    "## First, binary classif: high white vs not"
   ]
  },
  {
   "cell_type": "code",
   "execution_count": 19,
   "metadata": {},
   "outputs": [],
   "source": [
    "X_train, X_test, y_train, y_test = train_test_split(df['preproc_text'], df['high_white'], random_state=0)"
   ]
  },
  {
   "cell_type": "code",
   "execution_count": 7,
   "metadata": {},
   "outputs": [],
   "source": [
    "word_vectorizer = CountVectorizer()"
   ]
  },
  {
   "cell_type": "code",
   "execution_count": 20,
   "metadata": {},
   "outputs": [],
   "source": [
    "X_train_vectorized = word_vectorizer.fit_transform(X_train)"
   ]
  },
  {
   "cell_type": "code",
   "execution_count": 21,
   "metadata": {},
   "outputs": [],
   "source": [
    "# Logistic regression model\n",
    "model = LogisticRegression(C=.1).fit(X_train_vectorized, y_train)"
   ]
  },
  {
   "cell_type": "code",
   "execution_count": 22,
   "metadata": {},
   "outputs": [],
   "source": [
    "predictions = model.predict_proba(word_vectorizer.transform(X_test))[:,1]"
   ]
  },
  {
   "cell_type": "code",
   "execution_count": 23,
   "metadata": {},
   "outputs": [],
   "source": [
    "binary_pred = [0 if value <= 0.5 else 1 for value in predictions]"
   ]
  },
  {
   "cell_type": "code",
   "execution_count": 24,
   "metadata": {},
   "outputs": [
    {
     "name": "stdout",
     "output_type": "stream",
     "text": [
      "AUC:  0.8558773412066003\n",
      "F1 score:  0.8023227679651586\n",
      "accuracy:  0.778410631950095\n"
     ]
    }
   ],
   "source": [
    "print('AUC: ', roc_auc_score(y_test, predictions))\n",
    "print('F1 score: ', f1_score(y_test, binary_pred))\n",
    "print('accuracy: ', accuracy_score(y_test, binary_pred))"
   ]
  },
  {
   "cell_type": "code",
   "execution_count": 25,
   "metadata": {},
   "outputs": [],
   "source": [
    "fpr, tpr, thresholds = roc_curve(y_test, predictions)\n",
    "roc_auc = auc(fpr, tpr)"
   ]
  },
  {
   "cell_type": "code",
   "execution_count": 26,
   "metadata": {},
   "outputs": [
    {
     "data": {
      "text/plain": [
       "(0.0, 1.0)"
      ]
     },
     "execution_count": 26,
     "metadata": {},
     "output_type": "execute_result"
    },
    {
     "data": {
      "image/png": "[encoded data removed]",
      "text/plain": [
       "<matplotlib.figure.Figure at 0x1a18b75b70>"
      ]
     },
     "metadata": {},
     "output_type": "display_data"
    }
   ],
   "source": [
    "plt.figure()\n",
    "plt.plot(fpr, tpr, label='ROC curve (area = %0.2f)' % (roc_auc))\n",
    "plt.plot([0, 1], [0, 1], 'k--')\n",
    "plt.xlim([0.0, 1.0])\n",
    "plt.ylim([0.0, 1.05])\n",
    "plt.xlabel('False Positive Rate')\n",
    "plt.ylabel('True Positive Rate')\n",
    "plt.title('Receiver operating characteristic')\n",
    "plt.legend(loc=\"lower right\")\n",
    "\n",
    "ax2 = plt.gca().twinx()\n",
    "ax2.plot(fpr, thresholds, markeredgecolor='r',linestyle='dashed', color='r')\n",
    "ax2.set_ylabel('Threshold',color='r')\n",
    "ax2.set_ylim([thresholds[-1],thresholds[0]])\n",
    "ax2.set_xlim([fpr[0],fpr[-1]])"
   ]
  },
  {
   "cell_type": "code",
   "execution_count": 27,
   "metadata": {},
   "outputs": [
    {
     "name": "stdout",
     "output_type": "stream",
     "text": [
      "Smallest Coefs:\n",
      "['westwood' 'moda' 'rianna' 'marymoor' 'riverpark' 'mall' 'concierge'\n",
      " 'sculpture' 'stadiums' 'harbor' 'fountain' 'airport' 'aurora' 'pools'\n",
      " 'rail' 'baker' 'beacon' 'cleveland' 'exposed' 'olympus']\n",
      "\n",
      "Largest Coefs: \n",
      "['foods' 'edwards' 'pearl' 'woodland' 'marq' 'cairns' 'sweeping'\n",
      " 'inglenook' 'pinnacle' 'springline' 'urbana' 'esxpt' 'ivorywood'\n",
      " 'northshore' 'locks' 'harvard' 'volunteer' 'waterscape' 'beach' 'nw']\n"
     ]
    }
   ],
   "source": [
    "feature_names = np.array(word_vectorizer.get_feature_names())\n",
    "\n",
    "# Sort the coefficients from the model\n",
    "sorted_coef_index = model.coef_[0].argsort()\n",
    "\n",
    "# Find the 10 smallest and 10 largest coefficients\n",
    "# The 10 largest coefficients are being indexed using [:-11:-1]\n",
    "# so the list returned is in order of largest to smallest\n",
    "print('Smallest Coefs:\\n{}\\n'.format(feature_names[sorted_coef_index[:20]]))\n",
    "print('Largest Coefs: \\n{}'.format(feature_names[sorted_coef_index[-20:]]))"
   ]
  },
  {
   "cell_type": "code",
   "execution_count": 28,
   "metadata": {},
   "outputs": [
    {
     "name": "stdout",
     "output_type": "stream",
     "text": [
      "AUC:  0.839978492574239\n",
      "F1 score:  0.7953420669577875\n",
      "accuracy:  0.7616949152542373\n",
      "Smallest Coefs:\n",
      "['westwood' 'moda' 'mall' 'marymoor' 'riverpark' 'concierge' 'airport'\n",
      " 'aurora' 'stadiums' 'pools' 'helios' 'sculpture' 'jefferson' 'rail'\n",
      " 'baker' 'rianna' 'fountain' 'cleveland' 'cougar' 'beacon']\n",
      "\n",
      "Largest Coefs: \n",
      "['works' 'foods' 'boutiques' 'zoo' 'marq' 'slu' 'odin' 'esxpt' 'woodland'\n",
      " 'inglenook' 'springline' 'locks' 'northshore' 'pearl' 'waterscape'\n",
      " 'beach' 'urbana' 'volunteer' 'harvard' 'nw']\n",
      "AUC:  0.8195823479195576\n",
      "F1 score:  0.7861987614273075\n",
      "accuracy:  0.7542372881355932\n",
      "Smallest Coefs:\n",
      "['westwood' 'moda' 'rianna' 'mall' 'airport' 'marymoor' 'riverpark'\n",
      " 'helios' 'aurora' 'baker' 'stadiums' 'sculpture' 'udr' 'concierge' 'rail'\n",
      " 'jefferson' 'fountain' 'harbor' 'beacon' 'cleveland']\n",
      "\n",
      "Largest Coefs: \n",
      "['woodland' 'village' 'foods' 'esxpt' 'cairns' 'marq' 'odin' 'springline'\n",
      " 'pinnacle' 'locks' 'pearl' 'minor' 'summit' 'waterscape' 'volunteer'\n",
      " 'urbana' 'beach' 'northshore' 'harvard' 'nw']\n",
      "AUC:  0.8399776612508298\n",
      "F1 score:  0.792990792990793\n",
      "accuracy:  0.763728813559322\n",
      "Smallest Coefs:\n",
      "['westwood' 'moda' 'rianna' 'mall' 'baker' 'pools' 'marymoor' 'riverpark'\n",
      " 'aurora' 'rail' 'sculpture' 'concierge' 'fountain' 'airport' 'beacon'\n",
      " 'jefferson' 'stadiums' 'harbor' 'helios' 'red']\n",
      "\n",
      "Largest Coefs: \n",
      "['bernard' 'zoo' 'slu' 'woodland' 'minor' 'inglenook' 'carkeek' 'cairns'\n",
      " 'pearl' 'esxpt' 'urbana' 'locks' 'springline' 'pinnacle' 'northshore'\n",
      " 'waterscape' 'volunteer' 'beach' 'harvard' 'nw']\n",
      "AUC:  0.8574647808923874\n",
      "F1 score:  0.8032589016294508\n",
      "accuracy:  0.7789081044421838\n",
      "Smallest Coefs:\n",
      "['moda' 'westwood' 'mall' 'rianna' 'airport' 'marymoor' 'pools'\n",
      " 'riverpark' 'sculpture' 'baker' 'aurora' 'udr' 'stadiums' 'concierge'\n",
      " 'swedish' 'harbor' 'beacon' 'fountain' 'cleveland' 'helios']\n",
      "\n",
      "Largest Coefs: \n",
      "['lea' 'esxpt' 'cairns' 'stonehedge' 'locks' 'marq' 'woodland' 'point'\n",
      " 'odin' 'bernard' 'pinnacle' 'springline' 'pearl' 'urbana' 'northshore'\n",
      " 'waterscape' 'beach' 'harvard' 'volunteer' 'nw']\n",
      "AUC:  0.864638609374294\n",
      "F1 score:  0.8010220376876397\n",
      "accuracy:  0.7887419464225162\n",
      "Smallest Coefs:\n",
      "['westwood' 'moda' 'mall' 'rianna' 'airport' 'concierge' 'riverpark'\n",
      " 'marymoor' 'stadiums' 'harbor' 'aurora' 'pools' 'udr' 'sculpture'\n",
      " 'cleveland' 'baker' 'jefferson' 'rail' 'beacon' 'exposed']\n",
      "\n",
      "Largest Coefs: \n",
      "['point' 'connector' 'springline' 'odin' 'cairns' 'crossing' 'marq'\n",
      " 'hillside' 'esxpt' 'waterscape' 'beach' 'pinnacle' 'ivorywood' 'urbana'\n",
      " 'locks' 'madison' 'harvard' 'volunteer' 'northshore' 'nw']\n"
     ]
    }
   ],
   "source": [
    "# Five-fold cross validation\n",
    "kf = KFold(n_splits=5)\n",
    "X, y = df['preproc_text'], df['high_white']\n",
    "for train_index, test_index in kf.split(X):\n",
    "    X_train, X_test = X[train_index], X[test_index]\n",
    "    y_train, y_test = y[train_index], y[test_index]\n",
    "    word_vectorizer.fit(X_train)\n",
    "    X_train_vectorized = word_vectorizer.fit_transform(X_train)\n",
    "    model = LogisticRegression(C=.1).fit(X_train_vectorized, y_train)\n",
    "    predictions = model.predict_proba(word_vectorizer.transform(X_test))[:,1]\n",
    "    binary_pred = [0 if value <= 0.5 else 1 for value in predictions]\n",
    "    print('AUC: ', roc_auc_score(y_test, predictions))\n",
    "    print('F1 score: ', f1_score(y_test, binary_pred))\n",
    "    print('accuracy: ', accuracy_score(y_test, binary_pred))\n",
    "    feature_names = np.array(word_vectorizer.get_feature_names())\n",
    "\n",
    "    # Sort the coefficients from the model\n",
    "    sorted_coef_index = model.coef_[0].argsort()\n",
    "\n",
    "    # Find the 10 smallest and 10 largest coefficients\n",
    "    # The 10 largest coefficients are being indexed using [:-11:-1]\n",
    "    # so the list returned is in order of largest to smallest\n",
    "    print('Smallest Coefs:\\n{}\\n'.format(feature_names[sorted_coef_index[:20]]))\n",
    "    print('Largest Coefs: \\n{}'.format(feature_names[sorted_coef_index[-20:]]))"
   ]
  },
  {
   "cell_type": "markdown",
   "metadata": {},
   "source": [
    "# Using ngram features"
   ]
  },
  {
   "cell_type": "code",
   "execution_count": 29,
   "metadata": {},
   "outputs": [],
   "source": [
    "# remake train test split\n",
    "X_train, X_test, y_train, y_test = train_test_split(df['preproc_text'], df['high_white'], random_state=0)"
   ]
  },
  {
   "cell_type": "code",
   "execution_count": 30,
   "metadata": {},
   "outputs": [],
   "source": [
    "ngram_vectorizer = CountVectorizer(ngram_range=(1,4)).fit(X_train)"
   ]
  },
  {
   "cell_type": "code",
   "execution_count": 36,
   "metadata": {},
   "outputs": [],
   "source": [
    "X_train_ngrams = ngram_vectorizer.transform(X_train)\n",
    "# Logistic regression model\n",
    "#model = LogisticRegression(C=.5).fit(X_train_ngrams, y_train)\n",
    "model = LogisticRegression(C=.5, penalty='l2').fit(X_train_ngrams, y_train)\n",
    "predictions = model.predict_proba(ngram_vectorizer.transform(X_test))[:,1]"
   ]
  },
  {
   "cell_type": "code",
   "execution_count": 37,
   "metadata": {},
   "outputs": [],
   "source": [
    "binary_pred = [0 if value <= 0.5 else 1 for value in predictions]"
   ]
  },
  {
   "cell_type": "code",
   "execution_count": 38,
   "metadata": {},
   "outputs": [
    {
     "name": "stdout",
     "output_type": "stream",
     "text": [
      "AUC:  0.8852991886921033\n",
      "F1 score:  0.8265700483091788\n",
      "accuracy:  0.8052617304041226\n"
     ]
    }
   ],
   "source": [
    "print('AUC: ', roc_auc_score(y_test, predictions))\n",
    "print('F1 score: ', f1_score(y_test, binary_pred))\n",
    "print('accuracy: ', accuracy_score(y_test, binary_pred))"
   ]
  },
  {
   "cell_type": "code",
   "execution_count": 39,
   "metadata": {
    "scrolled": true
   },
   "outputs": [
    {
     "name": "stdout",
     "output_type": "stream",
     "text": [
      "Smallest Coefs:\n",
      "['mall' 'airport' 'south' 'rail' 'pool' 'concierge' 'major' 'westwood'\n",
      " 'hood mall' 'shopping' 'light rail' 'marymoor' 'center' 'harbor steps'\n",
      " 'hood university' 'gym' 'moda' 'club' 'marymoor park' 'south hood']\n",
      "\n",
      "Largest Coefs: \n",
      "['children' 'point' 'basement' 'in home' 'st' 'hour fitness' 'whole foods'\n",
      " 'square one' 'island square' 'hood ave' 'deck' 'hill' 'west' 'market'\n",
      " 'hood village' 'shops' 'laundry' 'on hood' 'nw' 'beach']\n"
     ]
    }
   ],
   "source": [
    "feature_names = np.array(ngram_vectorizer.get_feature_names())\n",
    "\n",
    "# Sort the coefficients from the model\n",
    "sorted_coef_index = model.coef_[0].argsort()\n",
    "print('Smallest Coefs:\\n{}\\n'.format(feature_names[sorted_coef_index[:20]]))\n",
    "print('Largest Coefs: \\n{}'.format(feature_names[sorted_coef_index[-20:]]))"
   ]
  },
  {
   "cell_type": "code",
   "execution_count": 40,
   "metadata": {},
   "outputs": [
    {
     "name": "stdout",
     "output_type": "stream",
     "text": [
      "AUC:  0.8583821968592805\n",
      "F1 score:  0.8148997134670487\n",
      "accuracy:  0.7810169491525424\n",
      "Smallest Coefs:\n",
      "['mall' 'south' 'rail' 'airport' 'pool' 'concierge' 'light rail'\n",
      " 'hood mall' 'major' 'westwood' 'hood university' 'moda' 'center'\n",
      " 'south hood' 'near' 'harbor steps' 'marymoor' 'aurora' 'playground'\n",
      " 'shopping']\n",
      "\n",
      "Largest Coefs: \n",
      "['island square' 'square one' 'basement' 'whole foods' 'volunteer'\n",
      " 'classic' 'bars' 'locks' 'whole' 'laundry' 'hill' 'west' 'on hood'\n",
      " 'hood village' 'hood ave' 'shops' 'deck' 'market' 'beach' 'nw']\n",
      "AUC:  0.8464248091366118\n",
      "F1 score:  0.8009395184967705\n",
      "accuracy:  0.7701694915254237\n",
      "Smallest Coefs:\n",
      "['mall' 'airport' 'south' 'rail' 'pool' 'light rail' 'westwood'\n",
      " 'hood university' 'concierge' 'near' 'cedar' 'gym' 'playground' 'major'\n",
      " 'rianna' 'harbor steps' 'marymoor' 'freeways' 'center' 'club']\n",
      "\n",
      "Largest Coefs: \n",
      "['woodland' 'smoking' 'basement' 'hood bedroom' 'northshore' 'laundry'\n",
      " 'bike' 'summit' 'village' 'island square' 'cascade' 'deck' 'west'\n",
      " 'hood ave' 'hood village' 'shops' 'market' 'on hood' 'nw' 'beach']\n",
      "AUC:  0.8578187259148666\n",
      "F1 score:  0.8035139092240118\n",
      "accuracy:  0.772542372881356\n",
      "Smallest Coefs:\n",
      "['mall' 'rail' 'south' 'light rail' 'pool' 'airport' 'concierge' 'major'\n",
      " 'hood mall' 'playground' 'center' 'westwood' 'harbor steps' 'ave ne'\n",
      " 'moda' 'gym' 'rainier' 'shopping' 'red' 'rianna']\n",
      "\n",
      "Largest Coefs: \n",
      "['village' 'charming' 'summit' 'hill' 'marble' 'square one' 'hood ave'\n",
      " 'uw hood' 'restaurants' 'island square' 'market' 'hood village' 'bike'\n",
      " 'west' 'deck' 'basement' 'shops' 'on hood' 'nw' 'beach']\n",
      "AUC:  0.8872042267567806\n",
      "F1 score:  0.8285714285714286\n",
      "accuracy:  0.8087487283825026\n",
      "Smallest Coefs:\n",
      "['mall' 'airport' 'rail' 'south' 'campus' 'light rail' 'concierge' 'pool'\n",
      " 'shopping' 'hood mall' 'harbor steps' 'moda' 'rianna' 'hood university'\n",
      " 'marymoor' 'major' 'freeways' 'westwood' 'cedar' 'st ave']\n",
      "\n",
      "Largest Coefs: \n",
      "['uw' 'in home' 'woodland' 'island square' 'point' 'children' 'square one'\n",
      " 'village' 'hill' 'hood ave' 'market' 'deck' 'laundry' 'shops'\n",
      " 'hood beach' 'west' 'hood village' 'on hood' 'nw' 'beach']\n",
      "AUC:  0.8939280916240286\n",
      "F1 score:  0.8332280480101074\n",
      "accuracy:  0.8209562563580874\n",
      "Smallest Coefs:\n",
      "['mall' 'airport' 'rail' 'pool' 'south' 'concierge' 'south hood'\n",
      " 'light rail' 'hood mall' 'hood university' 'westwood' 'center' 'gym'\n",
      " 'near' 'section' 'rianna' 'moda' 'major' 'harbor steps' 'stadiums']\n",
      "\n",
      "Largest Coefs: \n",
      "['island square' 'charming' 'island' 'locks' 'madison' 'deck' 'laundry'\n",
      " 'hill' 'hood ave' 'square one' 'point' 'northshore' 'market' 'shops'\n",
      " 'basement' 'hood village' 'west' 'on hood' 'nw' 'beach']\n"
     ]
    }
   ],
   "source": [
    "# CV with ngram on high white\n",
    "kf = KFold(n_splits=5)\n",
    "X, y = df['preproc_text'], df['high_white']\n",
    "for train_index, test_index in kf.split(X):\n",
    "    X_train, X_test = X[train_index], X[test_index]\n",
    "    y_train, y_test = y[train_index], y[test_index]\n",
    "    X_train_vectorized = ngram_vectorizer.fit_transform(X_train)\n",
    "    model = LogisticRegression(C=.5).fit(X_train_vectorized, y_train)\n",
    "    predictions = model.predict_proba(ngram_vectorizer.transform(X_test))[:,1]\n",
    "    binary_pred = [0 if value <= 0.5 else 1 for value in predictions]\n",
    "    print('AUC: ', roc_auc_score(y_test, predictions))\n",
    "    print('F1 score: ', f1_score(y_test, binary_pred))\n",
    "    print('accuracy: ', accuracy_score(y_test, binary_pred))\n",
    "    feature_names = np.array(ngram_vectorizer.get_feature_names())\n",
    "\n",
    "    # Sort the coefficients from the model\n",
    "    sorted_coef_index = model.coef_[0].argsort()\n",
    "\n",
    "    # Find the 10 smallest and 10 largest coefficients\n",
    "    # The 10 largest coefficients are being indexed using [:-11:-1]\n",
    "    # so the list returned is in order of largest to smallest\n",
    "    print('Smallest Coefs:\\n{}\\n'.format(feature_names[sorted_coef_index[:20]]))\n",
    "    print('Largest Coefs: \\n{}'.format(feature_names[sorted_coef_index[-20:]]))"
   ]
  },
  {
   "cell_type": "code",
   "execution_count": null,
   "metadata": {},
   "outputs": [],
   "source": [
    "# AP note (04/14) The neighborhood names are still not complete enough -_-\n",
    "# also they are still sneaking in somehow... need more work on preproc\n",
    "# 'kirkland' and 'issaquah' are IN the damn hoods list.. why are they still showing up?!\n",
    "# 5/22: updated regex in preproc, does much better now!"
   ]
  },
  {
   "cell_type": "markdown",
   "metadata": {},
   "source": [
    "# OK, that was a binary prediction on high-white; let's see high-black"
   ]
  },
  {
   "cell_type": "code",
   "execution_count": 47,
   "metadata": {},
   "outputs": [],
   "source": [
    "# Prob a faster way to just grab new labels...\n",
    "X_train, X_test, y_train, y_test = train_test_split(df['preproc_text'], df['high_black'], random_state=0)"
   ]
  },
  {
   "cell_type": "code",
   "execution_count": 48,
   "metadata": {},
   "outputs": [],
   "source": [
    "X_train_ngrams = ngram_vectorizer.transform(X_train)\n",
    "# Logistic regression model\n",
    "model = LogisticRegression(C=.5).fit(X_train_ngrams, y_train)\n",
    "predictions = model.predict_proba(ngram_vectorizer.transform(X_test))[:,1]\n",
    "\n",
    "\n",
    "#Parameters to try: l1 penalty instead of l2\n",
    "# different regularization "
   ]
  },
  {
   "cell_type": "code",
   "execution_count": 49,
   "metadata": {},
   "outputs": [],
   "source": [
    "binary_pred = [0 if value <= 0.5 else 1 for value in predictions]"
   ]
  },
  {
   "cell_type": "code",
   "execution_count": 50,
   "metadata": {},
   "outputs": [
    {
     "name": "stdout",
     "output_type": "stream",
     "text": [
      "AUC:  0.8790716131303669\n",
      "F1 score:  0.7527093596059113\n",
      "accuracy:  0.7957689178193653\n"
     ]
    }
   ],
   "source": [
    "print('AUC: ', roc_auc_score(y_test, predictions))\n",
    "print('F1 score: ', f1_score(y_test, binary_pred))\n",
    "print('accuracy: ', accuracy_score(y_test, binary_pred))"
   ]
  },
  {
   "cell_type": "code",
   "execution_count": 51,
   "metadata": {},
   "outputs": [
    {
     "name": "stdout",
     "output_type": "stream",
     "text": [
      "Smallest Coefs:\n",
      "['nw' 'ne' 'hood square' 'uw' 'school hood' 'trails' 'square' 'newport'\n",
      " 'se' 'island' 'shops' 'hood park' 'beach' 'mountains' 'ne hood' 'ave nw'\n",
      " 'zoo' 'trail' 'around' 'courtyard']\n",
      "\n",
      "Largest Coefs: \n",
      "['rainier' 'fitness' 'section' 'golf course' 'hood station' 'cedar'\n",
      " 'olive' 'concierge' 'apartment homes' 'harbor' 'golf' 'south hood'\n",
      " 'pointe' 'valley' 'th ave hood wa' 'light rail' 'airport' 'th ave hood'\n",
      " 'hood university' 'rail']\n"
     ]
    }
   ],
   "source": [
    "feature_names = np.array(ngram_vectorizer.get_feature_names())\n",
    "\n",
    "# Sort the coefficients from the model\n",
    "sorted_coef_index = model.coef_[0].argsort()\n",
    "print('Smallest Coefs:\\n{}\\n'.format(feature_names[sorted_coef_index[:20]]))\n",
    "print('Largest Coefs: \\n{}'.format(feature_names[sorted_coef_index[-20:]]))"
   ]
  },
  {
   "cell_type": "code",
   "execution_count": null,
   "metadata": {},
   "outputs": [],
   "source": [
    "X_train_vectorized = word_vectorizer.transform(X_train)\n",
    "model = LogisticRegression(C=.1, penalty='l1').fit(X_train_vectorized, y_train)\n",
    "predictions = model.predict_proba(word_vectorizer.transform(X_test))[:,1]\n",
    "binary_pred = [0 if value <= 0.5 else 1 for value in predictions]\n",
    "print('AUC: ', roc_auc_score(y_test, predictions))\n",
    "print('F1 score: ', f1_score(y_test, binary_pred))\n",
    "print('accuracy: ', accuracy_score(y_test, binary_pred))"
   ]
  },
  {
   "cell_type": "code",
   "execution_count": null,
   "metadata": {},
   "outputs": [],
   "source": [
    "feature_names = np.array(word_vectorizer.get_feature_names())\n",
    "\n",
    "# Sort the coefficients from the model\n",
    "sorted_coef_index = model.coef_[0].argsort()\n",
    "print('Smallest Coefs:\\n{}\\n'.format(feature_names[sorted_coef_index[:20]]))\n",
    "print('Largest Coefs: \\n{}'.format(feature_names[sorted_coef_index[-20:]]))"
   ]
  },
  {
   "cell_type": "code",
   "execution_count": null,
   "metadata": {},
   "outputs": [],
   "source": [
    "y_test.value_counts()\n"
   ]
  },
  {
   "cell_type": "code",
   "execution_count": null,
   "metadata": {},
   "outputs": [],
   "source": [
    "1627/2060"
   ]
  },
  {
   "cell_type": "code",
   "execution_count": null,
   "metadata": {},
   "outputs": [],
   "source": [
    "# Try SVM..\n",
    "\n",
    "model = SGDClassifier(loss='hinge', penalty='l2', alpha=1e-3, random_state=42, max_iter=5, tol=None)\n",
    "model.fit(X_train_vectorized,y_train)\n",
    "predicted = model.predict(word_vectorizer.transform(X_test))\n",
    "np.mean(predicted == y_test)"
   ]
  },
  {
   "cell_type": "code",
   "execution_count": null,
   "metadata": {},
   "outputs": [],
   "source": [
    "model.score(word_vectorizer.transform(X_test), y_test)"
   ]
  },
  {
   "cell_type": "code",
   "execution_count": null,
   "metadata": {},
   "outputs": [],
   "source": [
    "# Five-fold cross validation on unigrams\n",
    "kf = KFold(n_splits=5)\n",
    "X, y = df['preproc_text'], df['high_black']\n",
    "for train_index, test_index in kf.split(X):\n",
    "    X_train, X_test = X[train_index], X[test_index]\n",
    "    y_train, y_test = y[train_index], y[test_index]\n",
    "    word_vectorizer.fit(X_train)\n",
    "    X_train_vectorized = word_vectorizer.fit_transform(X_train)\n",
    "    model = LogisticRegression(C=.5).fit(X_train_vectorized, y_train)\n",
    "    predictions = model.predict_proba(word_vectorizer.transform(X_test))[:,1]\n",
    "    binary_pred = [0 if value <= 0.5 else 1 for value in predictions]\n",
    "    print('AUC: ', roc_auc_score(y_test, predictions))\n",
    "    print('F1 score: ', f1_score(y_test, binary_pred))\n",
    "    print('accuracy: ', accuracy_score(y_test, binary_pred))\n",
    "    feature_names = np.array(word_vectorizer.get_feature_names())\n",
    "\n",
    "    # Sort the coefficients from the model\n",
    "    sorted_coef_index = model.coef_[0].argsort()\n",
    "    print('Smallest Coefs:\\n{}\\n'.format(feature_names[sorted_coef_index[:20]]))\n",
    "    print('Largest Coefs: \\n{}'.format(feature_names[sorted_coef_index[-20:]]))"
   ]
  },
  {
   "cell_type": "code",
   "execution_count": 46,
   "metadata": {},
   "outputs": [
    {
     "name": "stdout",
     "output_type": "stream",
     "text": [
      "AUC:  0.8570017743120733\n",
      "F1 score:  0.7233669443226654\n",
      "accuracy:  0.7861016949152543\n",
      "Smallest Coefs:\n",
      "['nw' 'ne' 'hood square' 'uw' 'trails' 'newport' 'se' 'school hood'\n",
      " 'mountains' 'beach' 'shops' 'hood park' 'trail' 'ave nw' 'courtyard'\n",
      " 'square' 'ne hood wa' 'tour today' 'zoo' 'excellent']\n",
      "\n",
      "Largest Coefs: \n",
      "['flooring' 'elliott' 'mall' 'moda' 'olive' 'hood station' 'ave hood'\n",
      " 'harbor' 'pointe' 'th ave hood wa' 'south hood' 'golf' 'station'\n",
      " 'th ave hood' 'concierge' 'court' 'light rail' 'airport'\n",
      " 'hood university' 'rail']\n",
      "AUC:  0.860598941466387\n",
      "F1 score:  0.7143507972665147\n",
      "accuracy:  0.7874576271186441\n",
      "Smallest Coefs:\n",
      "['nw' 'ne' 'uw' 'hood square' 'trails' 'school hood' 'hood park' 'se'\n",
      " 'shops' 'beach' 'island' 'newport' 'square' 'ave nw' 'mountains' 'nw th'\n",
      " 'zoo' 'starting' 'ne hood' 'trail']\n",
      "\n",
      "Largest Coefs: \n",
      "['hood airport' 'south' 'golf course' 'the hood hood' 'community college'\n",
      " 'valley' 'ave hood' 'olive' 'concierge' 'court' 'south hood'\n",
      " 'hood station' 'station' 'pointe' 'th ave hood wa' 'light rail'\n",
      " 'th ave hood' 'hood university' 'airport' 'rail']\n",
      "AUC:  0.8571538507740589\n",
      "F1 score:  0.7303609341825903\n",
      "accuracy:  0.7847457627118644\n",
      "Smallest Coefs:\n",
      "['nw' 'ne' 'uw' 'hood square' 'school hood' 'mountains' 'shops' 'trails'\n",
      " 'hood park' 'newport' 'beach' 'in hood hood' 'square' 'se' 'island'\n",
      " 'hood trail' 'nw th' 'courtyard' 'ave nw' 'excellent']\n",
      "\n",
      "Largest Coefs: \n",
      "['elliott' 'ave hood' 'flooring' 'with large' 'hood station' 'rainier'\n",
      " 'golf' 'south' 'station' 'valley' 'pointe' 'harbor' 'concierge'\n",
      " 'south hood' 'th ave hood wa' 'th ave hood' 'airport' 'hood university'\n",
      " 'light rail' 'rail']\n",
      "AUC:  0.8859655566476079\n",
      "F1 score:  0.7694753577106518\n",
      "accuracy:  0.8033231603933537\n",
      "Smallest Coefs:\n",
      "['nw' 'ne' 'uw' 'hood square' 'square' 'se' 'trails' 'school hood'\n",
      " 'newport' 'island' 'shops' 'beach' 'nw th' 'hood park' 'mountains'\n",
      " 'se hood wa' 'ave nw' 'campus' 'se hood' 'trail']\n",
      "\n",
      "Largest Coefs: \n",
      "['apartment homes' 'moda' 'hood station' 'rianna' 'pointe' 'aurora' 'line'\n",
      " 'concierge' 'station' 'gated' 'harbor' 'valley' 'south hood' 'golf'\n",
      " 'light rail' 'th ave hood wa' 'th ave hood' 'hood university' 'airport'\n",
      " 'rail']\n",
      "AUC:  0.8878456245077312\n",
      "F1 score:  0.7928519328956966\n",
      "accuracy:  0.8073923363852153\n",
      "Smallest Coefs:\n",
      "['nw' 'ne' 'uw' 'hood square' 'trails' 'island' 'square' 'school hood'\n",
      " 'shops' 'se' 'blocks' 'newport' 'off the' 'town center' 'beach' 'ave nw'\n",
      " 'walking' 'hood town center' 'hood park' 'nw th']\n",
      "\n",
      "Largest Coefs: \n",
      "['roof' 'court' 'moda' 'westwood' 'hood station' 'olive' 'west hood'\n",
      " 'golf' 'harbor' 'ave hood' 'city' 'th ave hood wa' 'concierge'\n",
      " 'th ave hood' 'south hood' 'light rail' 'station' 'hood university'\n",
      " 'airport' 'rail']\n"
     ]
    }
   ],
   "source": [
    "# CV with ngram\n",
    "kf = KFold(n_splits=5)\n",
    "X, y = df['preproc_text'], df['high_black']\n",
    "for train_index, test_index in kf.split(X):\n",
    "    X_train, X_test = X[train_index], X[test_index]\n",
    "    y_train, y_test = y[train_index], y[test_index]\n",
    "    X_train_vectorized = ngram_vectorizer.fit_transform(X_train)\n",
    "    model = LogisticRegression(C=.5).fit(X_train_vectorized, y_train)\n",
    "    predictions = model.predict_proba(ngram_vectorizer.transform(X_test))[:,1]\n",
    "    binary_pred = [0 if value <= 0.5 else 1 for value in predictions]\n",
    "    print('AUC: ', roc_auc_score(y_test, predictions))\n",
    "    print('F1 score: ', f1_score(y_test, binary_pred))\n",
    "    print('accuracy: ', accuracy_score(y_test, binary_pred))\n",
    "    feature_names = np.array(ngram_vectorizer.get_feature_names())\n",
    "\n",
    "    # Sort the coefficients from the model\n",
    "    sorted_coef_index = model.coef_[0].argsort()\n",
    "    print('Smallest Coefs:\\n{}\\n'.format(feature_names[sorted_coef_index[:20]]))\n",
    "    print('Largest Coefs: \\n{}'.format(feature_names[sorted_coef_index[-20:]]))"
   ]
  },
  {
   "cell_type": "code",
   "execution_count": null,
   "metadata": {},
   "outputs": [],
   "source": []
  }
 ],
 "metadata": {
  "kernelspec": {
   "display_name": "Python 3",
   "language": "python",
   "name": "python3"
  },
  "language_info": {
   "codemirror_mode": {
    "name": "ipython",
    "version": 3
   },
   "file_extension": ".py",
   "mimetype": "text/x-python",
   "name": "python",
   "nbconvert_exporter": "python",
   "pygments_lexer": "ipython3",
   "version": "3.6.4"
  }
 },
 "nbformat": 4,
 "nbformat_minor": 2
}
